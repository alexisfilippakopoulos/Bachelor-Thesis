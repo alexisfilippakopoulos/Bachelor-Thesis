{
 "cells": [
  {
   "cell_type": "code",
   "execution_count": 1,
   "metadata": {},
   "outputs": [],
   "source": [
    "import sqlite3\n",
    "import pandas as pd\n",
    "import numpy as np"
   ]
  },
  {
   "cell_type": "markdown",
   "metadata": {},
   "source": [
    "Define all paths"
   ]
  },
  {
   "cell_type": "code",
   "execution_count": 2,
   "metadata": {},
   "outputs": [],
   "source": [
    "general_path = 'fmnist-exp/Baseline_exps/'\n",
    "experiment_paths = ['Base1/', 'Base2/', 'Base3/', 'Base4/', 'Base5/']\n",
    "epoch_paths = ['First10/', 'Second10/', 'Third10/', 'Fourth10/', 'Fifth10/', 'Sixth10/', 'Seventh10/']"
   ]
  },
  {
   "cell_type": "markdown",
   "metadata": {},
   "source": [
    "Connect to all client databases, read the statistics table and create a DataFrame."
   ]
  },
  {
   "cell_type": "code",
   "execution_count": 3,
   "metadata": {},
   "outputs": [],
   "source": [
    "def _get_statistics_table(connection_path, client_flag):\n",
    "    if client_flag:\n",
    "        conn = sqlite3.connect(connection_path)\n",
    "        df = pd.read_sql_query(sql='SELECT * FROM statistics', con=conn)\n",
    "        conn.close()\n",
    "        return df\n",
    "    else:\n",
    "        conn = sqlite3.connect(connection_path)\n",
    "        df = pd.read_sql_query(sql='SELECT * FROM statistics', con=conn)\n",
    "        df1, df2 = df[df['client_id'] == 1], df[df['client_id'] == 2]\n",
    "        conn.close()\n",
    "        return [df1, df2]"
   ]
  },
  {
   "cell_type": "markdown",
   "metadata": {},
   "source": [
    "Do some minor data trasnformation to get the desired format and merge the DataFrames."
   ]
  },
  {
   "cell_type": "code",
   "execution_count": 4,
   "metadata": {},
   "outputs": [],
   "source": [
    "def _merge_dfs(df_list, client_flag):\n",
    "    df = pd.concat(df_list, axis=0)\n",
    "    df['epoch'] = np.arange(0, 70)\n",
    "    df.set_index(keys='epoch', inplace=True)\n",
    "    (df.drop(['testing_acc', 'gamma'], axis=1, inplace=True)) if client_flag else df.drop(columns='server_test_acc', axis=1, inplace=True)     \n",
    "    return df"
   ]
  },
  {
   "cell_type": "markdown",
   "metadata": {},
   "source": [
    "Iterate over each experiment, extract and export the data in .csv format."
   ]
  },
  {
   "cell_type": "code",
   "execution_count": 5,
   "metadata": {},
   "outputs": [],
   "source": [
    "def _retrive_exp_data(data_path):\n",
    "    c0_dfs = []\n",
    "    c1_dfs = []\n",
    "    c0_server_dfs = []\n",
    "    c1_server_dfs = []\n",
    "    for path in epoch_paths:\n",
    "        c0_dfs.append(_get_statistics_table(data_path + path + 'database_0.db', True))\n",
    "        c1_dfs.append(_get_statistics_table(data_path + path + 'database_1.db', True))\n",
    "        server_dfs = (_get_statistics_table(data_path + path + 'server_1_database.db', False))\n",
    "        c0_server_dfs.append(server_dfs[0])\n",
    "        c1_server_dfs.append(server_dfs[1])\n",
    "    c0_df = _merge_dfs(c0_dfs, True)\n",
    "    c1_df = _merge_dfs(c1_dfs, True)\n",
    "    c0_server_df = _merge_dfs(c0_server_dfs, False)\n",
    "    c1_server_df = _merge_dfs(c1_server_dfs, False)\n",
    "    final_c0_df = c0_df.join(other=c0_server_df, lsuffix='_c0_df', rsuffix='_c0_server_df')\n",
    "    final_c1_df = c1_df.join(other=c1_server_df, lsuffix='_c1_df', rsuffix='_c1_server_df')\n",
    "    final_c0_df.to_csv(data_path + 'client0.csv')\n",
    "    final_c1_df.to_csv(data_path + 'client1.csv')"
   ]
  },
  {
   "cell_type": "code",
   "execution_count": 6,
   "metadata": {},
   "outputs": [
    {
     "name": "stdout",
     "output_type": "stream",
     "text": [
      "[+] Exported 0th experiment data successfully.\n",
      "[+] Exported 1th experiment data successfully.\n",
      "[+] Exported 2th experiment data successfully.\n",
      "[+] Exported 3th experiment data successfully.\n",
      "[+] Exported 4th experiment data successfully.\n"
     ]
    }
   ],
   "source": [
    "for idx, path in enumerate(experiment_paths):\n",
    "    _retrive_exp_data(general_path + path)\n",
    "    print(f'[+] Exported {idx}th experiment data successfully.')\n",
    "    \n",
    "    "
   ]
  }
 ],
 "metadata": {
  "kernelspec": {
   "display_name": "base",
   "language": "python",
   "name": "python3"
  },
  "language_info": {
   "codemirror_mode": {
    "name": "ipython",
    "version": 3
   },
   "file_extension": ".py",
   "mimetype": "text/x-python",
   "name": "python",
   "nbconvert_exporter": "python",
   "pygments_lexer": "ipython3",
   "version": "3.9.12"
  }
 },
 "nbformat": 4,
 "nbformat_minor": 2
}
